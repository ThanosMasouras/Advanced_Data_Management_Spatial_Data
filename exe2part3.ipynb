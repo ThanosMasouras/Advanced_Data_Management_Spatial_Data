{
 "cells": [
  {
   "cell_type": "code",
   "execution_count": 1,
   "id": "cf5c1d47",
   "metadata": {},
   "outputs": [],
   "source": [
    "def intersect(line1, line2):\n",
    "    x1, y1, x2, y2 = line1\n",
    "    x3, y3, x4, y4 = line2\n",
    "\n",
    "    # Calculate the slopes and y-intercepts of the two lines\n",
    "    m1 = (y2 - y1) / (x2 - x1) if x2 - x1 != 0 else float('inf')\n",
    "    b1 = y1 - m1 * x1 if x2 - x1 != 0 else x1\n",
    "\n",
    "    m2 = (y4 - y3) / (x4 - x3) if x4 - x3 != 0 else float('inf')\n",
    "    b2 = y3 - m2 * x3 if x4 - x3 != 0 else x3\n",
    "\n",
    "    # Check if the lines are parallel\n",
    "    if m1 == m2:\n",
    "        return False\n",
    "\n",
    "    # Calculate the intersection point of the two lines\n",
    "    x_intersect = (b2 - b1) / (m1 - m2) if m1 != float('inf') and m2 != float('inf') else (b1 if m1 == float('inf') else b2)\n",
    "    y_intersect = m1 * x_intersect + b1 if m1 != float('inf') else m2 * x_intersect + b2\n",
    "\n",
    "    # Check if the intersection point lies within the segments\n",
    "    if (min(x1, x2) <= x_intersect <= max(x1, x2)) and (min(y1, y2) <= y_intersect <= max(y1, y2)) and (min(x3, x4) <= x_intersect <= max(x3, x4)) and (min(y3, y4) <= y_intersect <= max(y3, y4)):\n",
    "        return True\n",
    "\n",
    "    return False\n"
   ]
  },
  {
   "cell_type": "code",
   "execution_count": 2,
   "id": "e2462794",
   "metadata": {},
   "outputs": [],
   "source": [
    "def get_ids_coords(id,info_cells_on_grid):\n",
    "    ids_coords=[]\n",
    "    for i in info_cells_on_grid:\n",
    "        if i[0] == id:\n",
    "            print(len(i))\n",
    "            for j in range(5,len(i),2):\n",
    "                ids_coords.append([i[j],i[j+1]])\n",
    "        \n",
    "    return ids_coords"
   ]
  },
  {
   "cell_type": "code",
   "execution_count": 3,
   "id": "fff8a409",
   "metadata": {},
   "outputs": [],
   "source": [
    "def calculate_mbr_points(minMBRx, minMBRy, maxMBRx, maxMBRy):\n",
    "    mbr_points = []\n",
    "    mbr_points.append((minMBRx, minMBRy))\n",
    "    mbr_points.append((minMBRx, maxMBRy))\n",
    "    mbr_points.append((maxMBRx, maxMBRy))\n",
    "    mbr_points.append((maxMBRx, minMBRy))\n",
    "    return mbr_points\n"
   ]
  },
  {
   "cell_type": "code",
   "execution_count": 4,
   "id": "22d998b8",
   "metadata": {},
   "outputs": [],
   "source": [
    "with open('grid.dir', 'r') as file:\n",
    "    first_line = file.readline().strip()\n",
    "    number_of_ids_in_cells = []\n",
    "    for line in file:\n",
    "        row = list(map(int,line.strip().split()))\n",
    "        third_column = row[2]\n",
    "        number_of_ids_in_cells.append(third_column)\n",
    "        \n",
    "grid_min_max = list(map(float, first_line.split()))\n",
    "minX = grid_min_max[0]\n",
    "maxX = grid_min_max[1]\n",
    "minY = grid_min_max[2]\n",
    "maxY = grid_min_max[3]"
   ]
  },
  {
   "cell_type": "code",
   "execution_count": 5,
   "id": "48fc6f0f",
   "metadata": {},
   "outputs": [],
   "source": [
    "num_cells = 10\n",
    "grid = {}\n",
    "cellx_range = (maxX - minX)/10\n",
    "celly_range = (maxY - minY)/10\n",
    "\n",
    "for i in range(num_cells):\n",
    "    for j in range(num_cells):\n",
    "        cell_id = (minX + i*cellx_range, minY + j*celly_range)\n",
    "        grid[cell_id] = []"
   ]
  },
  {
   "cell_type": "code",
   "execution_count": 6,
   "id": "27c13927",
   "metadata": {},
   "outputs": [],
   "source": [
    "info_cells_on_grid = []\n",
    "with open(\"grid.grd\") as f:\n",
    "    for line in f:\n",
    "        elements = line.strip().split(\",\")\n",
    "        float_list = []\n",
    "        for i, element in enumerate(elements):\n",
    "            if \" \" in element:\n",
    "                sub_elements = element.split()\n",
    "                float_list += [float(sub_elements[0]), float(sub_elements[1])]\n",
    "            else:\n",
    "                float_list.append(float(element))\n",
    "        info_cells_on_grid.append(float_list)\n"
   ]
  },
  {
   "cell_type": "code",
   "execution_count": 7,
   "id": "0ece960a",
   "metadata": {},
   "outputs": [],
   "source": [
    "#number_of_ids_in_cells\n",
    "#info_cells_on_grid\n",
    "#grid\n",
    "#minX maxX minY maxY"
   ]
  },
  {
   "cell_type": "code",
   "execution_count": 8,
   "id": "e33a7341",
   "metadata": {},
   "outputs": [],
   "source": [
    "i = 0\n",
    "counter = 0\n",
    "for cell in grid:\n",
    "    if number_of_ids_in_cells[i] != 0:\n",
    "        for j in range(number_of_ids_in_cells[i]):\n",
    "            grid[cell].append(int(info_cells_on_grid[j+counter][0]))\n",
    "    counter = counter + number_of_ids_in_cells[i]\n",
    "    i=i+1"
   ]
  },
  {
   "cell_type": "code",
   "execution_count": 9,
   "id": "19637474",
   "metadata": {},
   "outputs": [],
   "source": [
    "#read first query\n",
    "with open('queries.txt', 'r') as file:\n",
    "    line = file.readline().strip()  # read the first line and remove any leading/trailing whitespaces\n",
    "    first_query = [float(x) for x in line.split(',')[1].split()]\n",
    "#min max of window\n",
    "window_minX = first_query[0]\n",
    "window_maxX = first_query[1]\n",
    "window_minY = first_query[2]\n",
    "window_maxY = first_query[3]"
   ]
  },
  {
   "cell_type": "code",
   "execution_count": 10,
   "id": "eff77319",
   "metadata": {
    "scrolled": true
   },
   "outputs": [
    {
     "name": "stdout",
     "output_type": "stream",
     "text": [
      "42\n",
      "42\n"
     ]
    }
   ],
   "source": [
    "ids_result = []\n",
    "cells_checked = 0\n",
    "for i in range(100):\n",
    "    cell_coordX = list(grid)[i][0]\n",
    "    cell_coordY = list(grid)[i][1]\n",
    "    if window_minX >= cell_coordX and window_minY >= cell_coordY and window_minX <= cell_coordX + cellx_range and window_minY <= cell_coordY + celly_range:\n",
    "        minMBRcell = i\n",
    "    if window_maxX >= cell_coordX and window_maxY >= cell_coordY and window_maxX <= cell_coordX + cellx_range and window_maxY <= cell_coordY + celly_range:\n",
    "        maxMBRcell = i\n",
    "print(minMBRcell)\n",
    "print(maxMBRcell)\n",
    "found = False\n",
    "if minMBRcell == maxMBRcell:\n",
    "    cells_checked = 1\n",
    "    ids_of_cell = grid[list(grid)[minMBRcell]]\n",
    "    for id in ids_of_cell:\n",
    "        while(found == False):\n",
    "            if info_cells_on_grid[i][0] == id:\n",
    "                id_minX = info_cells_on_grid[i][1]\n",
    "                id_minY = info_cells_on_grid[i][2]\n",
    "                id_maxX = info_cells_on_grid[i][3]\n",
    "                id_maxY = info_cells_on_grid[i][4]\n",
    "                if (window_minX <= id_maxX and window_minY <= id_maxY) and (window_maxX >= id_minX and window_maxY >= id_minY):\n",
    "                    if id not in ids_result:\n",
    "                        ids_result.append(id)\n",
    "                elif (window_minX <= id_minX and window_minY <= id_minY) and (window_maxX >= id_maxX and window_maxY >= id_maxY):\n",
    "                    if id not in ids_result:\n",
    "                        ids_result.append(id)\n",
    "                found = True\n",
    "            i = i + 1\n",
    "        found = False\n",
    "else:\n",
    "    difference_x = (maxMBRcell%10) - (minMBRcell%10)\n",
    "    difference_y = (maxMBRcell//10) - (minMBRcell//10)\n",
    "    for x in range(difference_y+1):\n",
    "            for y in range(difference_x+1):\n",
    "                cells_checked += 1\n",
    "                ids_of_cell = grid[list(grid)[minMBRcell + x + y*10]]\n",
    "                for id in ids_of_cell:\n",
    "                    while(found == False):\n",
    "                        if info_cells_on_grid[i][0] == id:\n",
    "                            id_minX = info_cells_on_grid[i][1]\n",
    "                            id_minY = info_cells_on_grid[i][2]\n",
    "                            id_maxX = info_cells_on_grid[i][3]\n",
    "                            id_maxY = info_cells_on_grid[i][4]\n",
    "                            if (window_minX <= id_maxX and window_minY <= id_maxY) and (window_maxX >= id_minX and window_maxY >= id_minY):\n",
    "                                if id not in ids_result:\n",
    "                                    ids_result.append(id)\n",
    "                            elif (window_minX <= id_minX and window_minY <= id_minY) and (window_maxX >= id_maxX and window_maxY >= id_maxY):\n",
    "                                if id not in ids_result:\n",
    "                                    ids_result.append(id)\n",
    "                            found = True\n",
    "                        i = i + 1\n",
    "                    found = False"
   ]
  },
  {
   "cell_type": "code",
   "execution_count": 11,
   "id": "0c8be2b6",
   "metadata": {},
   "outputs": [
    {
     "data": {
      "text/plain": [
       "[13151, 15262, 15774, 16782, 21379, 22260, 22500, 22946, 22947]"
      ]
     },
     "execution_count": 11,
     "metadata": {},
     "output_type": "execute_result"
    }
   ],
   "source": [
    "ids_result"
   ]
  },
  {
   "cell_type": "code",
   "execution_count": 12,
   "id": "5ee1e647",
   "metadata": {},
   "outputs": [
    {
     "data": {
      "text/plain": [
       "1"
      ]
     },
     "execution_count": 12,
     "metadata": {},
     "output_type": "execute_result"
    }
   ],
   "source": [
    "cells_checked"
   ]
  },
  {
   "cell_type": "code",
   "execution_count": 13,
   "id": "6dbba6f1",
   "metadata": {},
   "outputs": [
    {
     "name": "stdout",
     "output_type": "stream",
     "text": [
      "13151\n",
      "1497\n",
      "1497\n",
      "1497\n",
      "1497\n",
      "1497\n",
      "1497\n",
      "1497\n",
      "1497\n",
      "1497\n",
      "1497\n",
      "1497\n",
      "1497\n",
      "15262\n",
      "1497\n",
      "1497\n",
      "1497\n",
      "1497\n",
      "1497\n",
      "1497\n",
      "1497\n",
      "1497\n",
      "1497\n",
      "1497\n",
      "1497\n",
      "1497\n",
      "15774\n",
      "1497\n",
      "1497\n",
      "1497\n",
      "1497\n",
      "1497\n",
      "1497\n",
      "1497\n",
      "1497\n",
      "1497\n",
      "1497\n",
      "1497\n",
      "1497\n",
      "16782\n",
      "1497\n",
      "1497\n",
      "1497\n",
      "1497\n",
      "1497\n",
      "1497\n",
      "1497\n",
      "1497\n",
      "1497\n",
      "1497\n",
      "1497\n",
      "1497\n",
      "21379\n",
      "1497\n",
      "1497\n",
      "1497\n",
      "1497\n",
      "1497\n",
      "1497\n",
      "1497\n",
      "1497\n",
      "1497\n",
      "1497\n",
      "1497\n",
      "1497\n",
      "22260\n",
      "1497\n",
      "1497\n",
      "1497\n",
      "1497\n",
      "1497\n",
      "1497\n",
      "1497\n",
      "1497\n",
      "1497\n",
      "1497\n",
      "1497\n",
      "1497\n",
      "22500\n",
      "1497\n",
      "1497\n",
      "1497\n",
      "1497\n",
      "1497\n",
      "1497\n",
      "1497\n",
      "1497\n",
      "1497\n",
      "1497\n",
      "1497\n",
      "1497\n",
      "22946\n",
      "1497\n",
      "1497\n",
      "1497\n",
      "1497\n",
      "1497\n",
      "1497\n",
      "1497\n",
      "1497\n",
      "1497\n",
      "1497\n",
      "1497\n",
      "1497\n",
      "22947\n",
      "1497\n",
      "1497\n",
      "1497\n",
      "1497\n",
      "1497\n",
      "1497\n",
      "1497\n",
      "1497\n",
      "1497\n",
      "1497\n",
      "1497\n",
      "1497\n"
     ]
    }
   ],
   "source": [
    "for id in ids_result:\n",
    "    print(id)\n",
    "    linestrings = get_ids_coords(35664,info_cells_on_grid)"
   ]
  },
  {
   "cell_type": "code",
   "execution_count": 14,
   "id": "f15bc24b",
   "metadata": {
    "scrolled": true
   },
   "outputs": [
    {
     "name": "stdout",
     "output_type": "stream",
     "text": [
      "43\n"
     ]
    },
    {
     "data": {
      "text/plain": [
       "[[-86.83202, 32.320627],\n",
       " [-86.833968, 32.320909],\n",
       " [-86.83488, 32.320971],\n",
       " [-86.836614, 32.321326],\n",
       " [-86.841725, 32.322583],\n",
       " [-86.844042, 32.323358],\n",
       " [-86.84494, 32.3236],\n",
       " [-86.846206, 32.323774],\n",
       " [-86.847501, 32.323742],\n",
       " [-86.848307, 32.323938],\n",
       " [-86.848705, 32.324084],\n",
       " [-86.848951, 32.324137],\n",
       " [-86.849209, 32.324157],\n",
       " [-86.849466, 32.324195],\n",
       " [-86.849636, 32.324232],\n",
       " [-86.84981, 32.32423],\n",
       " [-86.85014, 32.324147],\n",
       " [-86.85031, 32.324147],\n",
       " [-86.850543, 32.324181]]"
      ]
     },
     "execution_count": 14,
     "metadata": {},
     "output_type": "execute_result"
    }
   ],
   "source": [
    "get_ids_coords(22500,info_cells_on_grid)"
   ]
  },
  {
   "cell_type": "code",
   "execution_count": null,
   "id": "08b528d2",
   "metadata": {},
   "outputs": [],
   "source": []
  },
  {
   "cell_type": "code",
   "execution_count": null,
   "id": "faaad395",
   "metadata": {},
   "outputs": [],
   "source": []
  }
 ],
 "metadata": {
  "kernelspec": {
   "display_name": "Python 3 (ipykernel)",
   "language": "python",
   "name": "python3"
  },
  "language_info": {
   "codemirror_mode": {
    "name": "ipython",
    "version": 3
   },
   "file_extension": ".py",
   "mimetype": "text/x-python",
   "name": "python",
   "nbconvert_exporter": "python",
   "pygments_lexer": "ipython3",
   "version": "3.9.7"
  }
 },
 "nbformat": 4,
 "nbformat_minor": 5
}
