{
 "cells": [
  {
   "cell_type": "code",
   "execution_count": 113,
   "id": "22d998b8",
   "metadata": {},
   "outputs": [],
   "source": [
    "with open('grid.dir', 'r') as file:\n",
    "    first_line = file.readline().strip()\n",
    "    number_of_ids_in_cells = []\n",
    "    for line in file:\n",
    "        row = list(map(int,line.strip().split()))\n",
    "        third_column = row[2]\n",
    "        number_of_ids_in_cells.append(third_column)\n",
    "        \n",
    "grid_min_max = list(map(float, first_line.split()))\n",
    "minX = grid_min_max[0]\n",
    "maxX = grid_min_max[1]\n",
    "minY = grid_min_max[2]\n",
    "maxY = grid_min_max[3]"
   ]
  },
  {
   "cell_type": "code",
   "execution_count": 114,
   "id": "48fc6f0f",
   "metadata": {},
   "outputs": [],
   "source": [
    "num_cells = 10\n",
    "grid = {}\n",
    "cellx_range = (maxX - minX)/10\n",
    "celly_range = (maxY - minY)/10\n",
    "\n",
    "for i in range(num_cells):\n",
    "    for j in range(num_cells):\n",
    "        cell_id = (minX + i*cellx_range, minY + j*celly_range)\n",
    "        grid[cell_id] = []"
   ]
  },
  {
   "cell_type": "code",
   "execution_count": 115,
   "id": "c43fcbd8",
   "metadata": {},
   "outputs": [],
   "source": [
    "info_cells_on_grid = []\n",
    "with open(\"grid.grd\") as f:\n",
    "    for line in f:\n",
    "        elements = line.strip().split(\",\")\n",
    "        float_list = []\n",
    "        for i, element in enumerate(elements):\n",
    "            if \" \" in element:\n",
    "                sub_elements = element.split()\n",
    "                float_list += [float(sub_elements[0]), float(sub_elements[1])]\n",
    "            else:\n",
    "                float_list.append(float(element))\n",
    "        info_cells_on_grid.append(float_list)\n"
   ]
  },
  {
   "cell_type": "code",
   "execution_count": 116,
   "id": "de773ba4",
   "metadata": {},
   "outputs": [],
   "source": [
    "#info_cells_on_grid[0]"
   ]
  },
  {
   "cell_type": "code",
   "execution_count": 117,
   "id": "0ece960a",
   "metadata": {},
   "outputs": [],
   "source": [
    "#number_of_ids_in_cells\n",
    "#info_cells_on_grid\n",
    "#grid\n",
    "#minX maxX minY maxY"
   ]
  },
  {
   "cell_type": "code",
   "execution_count": 118,
   "id": "e33a7341",
   "metadata": {},
   "outputs": [],
   "source": [
    "i = 0\n",
    "counter = 0\n",
    "for cell in grid:\n",
    "    if number_of_ids_in_cells[i] != 0:\n",
    "        for j in range(number_of_ids_in_cells[i]):\n",
    "            grid[cell].append(int(info_cells_on_grid[j+counter][0]))\n",
    "    counter = counter + number_of_ids_in_cells[i]\n",
    "    i=i+1"
   ]
  },
  {
   "cell_type": "code",
   "execution_count": 119,
   "id": "19637474",
   "metadata": {},
   "outputs": [],
   "source": [
    "#read first query\n",
    "with open('queries.txt', 'r') as file:\n",
    "    line = file.readline().strip()  # read the first line and remove any leading/trailing whitespaces\n",
    "    first_query = [float(x) for x in line.split(',')[1].split()]\n",
    "#min max of window\n",
    "window_minX = first_query[0]\n",
    "window_maxX = first_query[1]\n",
    "window_minY = first_query[2]\n",
    "window_maxY = first_query[3]"
   ]
  },
  {
   "cell_type": "code",
   "execution_count": 120,
   "id": "eff77319",
   "metadata": {
    "scrolled": true
   },
   "outputs": [
    {
     "name": "stdout",
     "output_type": "stream",
     "text": [
      "42\n",
      "42\n"
     ]
    }
   ],
   "source": [
    "ids_result = []\n",
    "cells_checked = 0\n",
    "for i in range(100):\n",
    "    cell_coordX = list(grid)[i][0]\n",
    "    cell_coordY = list(grid)[i][1]\n",
    "    if window_minX >= cell_coordX and window_minY >= cell_coordY and window_minX <= cell_coordX + cellx_range and window_minY <= cell_coordY + celly_range:\n",
    "        minMBRcell = i\n",
    "    if window_maxX >= cell_coordX and window_maxY >= cell_coordY and window_maxX <= cell_coordX + cellx_range and window_maxY <= cell_coordY + celly_range:\n",
    "        maxMBRcell = i\n",
    "print(minMBRcell)\n",
    "print(maxMBRcell)\n",
    "found = False\n",
    "if minMBRcell == maxMBRcell:\n",
    "    cells_checked = 1\n",
    "    ids_of_cell = grid[list(grid)[minMBRcell]]\n",
    "    for id in ids_of_cell:\n",
    "        while(found == False):\n",
    "            if info_cells_on_grid[i][0] == id:\n",
    "                id_minX = info_cells_on_grid[i][1]\n",
    "                id_minY = info_cells_on_grid[i][2]\n",
    "                id_maxX = info_cells_on_grid[i][3]\n",
    "                id_maxY = info_cells_on_grid[i][4]\n",
    "                if (window_minX <= id_maxX and window_minY <= id_maxY) and (window_maxX >= id_minX and window_maxY >= id_minY):\n",
    "                    if id not in ids_result:\n",
    "                        ids_result.append(id)\n",
    "                elif (window_minX <= id_minX and window_minY <= id_minY) and (window_maxX >= id_maxX and window_maxY >= id_maxY):\n",
    "                    if id not in ids_result:\n",
    "                        ids_result.append(id)\n",
    "                found = True\n",
    "            i = i + 1\n",
    "        found = False\n",
    "else:\n",
    "    difference_x = (maxMBRcell%10) - (minMBRcell%10)\n",
    "    difference_y = (maxMBRcell//10) - (minMBRcell//10)\n",
    "    for x in range(difference_y+1):\n",
    "            for y in range(difference_x+1):\n",
    "                cells_checked += 1\n",
    "                ids_of_cell = grid[list(grid)[minMBRcell + x + y*10]]\n",
    "                for id in ids_of_cell:\n",
    "                    while(found == False):\n",
    "                        if info_cells_on_grid[i][0] == id:\n",
    "                            id_minX = info_cells_on_grid[i][1]\n",
    "                            id_minY = info_cells_on_grid[i][2]\n",
    "                            id_maxX = info_cells_on_grid[i][3]\n",
    "                            id_maxY = info_cells_on_grid[i][4]\n",
    "                            if (window_minX <= id_maxX and window_minY <= id_maxY) and (window_maxX >= id_minX and window_maxY >= id_minY):\n",
    "                                if id not in ids_result:\n",
    "                                    ids_result.append(id)\n",
    "                            elif (window_minX <= id_minX and window_minY <= id_minY) and (window_maxX >= id_maxX and window_maxY >= id_maxY):\n",
    "                                if id not in ids_result:\n",
    "                                    ids_result.append(id)\n",
    "                            found = True\n",
    "                        i = i + 1\n",
    "                    found = False"
   ]
  },
  {
   "cell_type": "code",
   "execution_count": 121,
   "id": "0c8be2b6",
   "metadata": {},
   "outputs": [
    {
     "data": {
      "text/plain": [
       "[13151, 15262, 15774, 16782, 21379, 22260, 22500, 22946, 22947]"
      ]
     },
     "execution_count": 121,
     "metadata": {},
     "output_type": "execute_result"
    }
   ],
   "source": [
    "ids_result"
   ]
  },
  {
   "cell_type": "code",
   "execution_count": 122,
   "id": "5ee1e647",
   "metadata": {},
   "outputs": [
    {
     "data": {
      "text/plain": [
       "1"
      ]
     },
     "execution_count": 122,
     "metadata": {},
     "output_type": "execute_result"
    }
   ],
   "source": [
    "cells_checked"
   ]
  },
  {
   "cell_type": "code",
   "execution_count": null,
   "id": "6dbba6f1",
   "metadata": {},
   "outputs": [],
   "source": []
  },
  {
   "cell_type": "code",
   "execution_count": null,
   "id": "077a33f3",
   "metadata": {},
   "outputs": [],
   "source": []
  }
 ],
 "metadata": {
  "kernelspec": {
   "display_name": "Python 3 (ipykernel)",
   "language": "python",
   "name": "python3"
  },
  "language_info": {
   "codemirror_mode": {
    "name": "ipython",
    "version": 3
   },
   "file_extension": ".py",
   "mimetype": "text/x-python",
   "name": "python",
   "nbconvert_exporter": "python",
   "pygments_lexer": "ipython3",
   "version": "3.9.7"
  }
 },
 "nbformat": 4,
 "nbformat_minor": 5
}
