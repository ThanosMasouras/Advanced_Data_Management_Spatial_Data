{
 "cells": [
  {
   "cell_type": "code",
   "execution_count": 422,
   "id": "22d998b8",
   "metadata": {},
   "outputs": [],
   "source": [
    "with open('grid.dir', 'r') as file:\n",
    "    first_line = file.readline().strip()\n",
    "    number_of_ids_in_cells = []\n",
    "    for line in file:\n",
    "        row = list(map(int,line.strip().split()))\n",
    "        third_column = row[2]\n",
    "        number_of_ids_in_cells.append(third_column)\n",
    "        \n",
    "grid_min_max = list(map(float, first_line.split()))\n",
    "minX = grid_min_max[0]\n",
    "maxX = grid_min_max[1]\n",
    "minY = grid_min_max[2]\n",
    "maxY = grid_min_max[3]"
   ]
  },
  {
   "cell_type": "code",
   "execution_count": 423,
   "id": "48fc6f0f",
   "metadata": {},
   "outputs": [],
   "source": [
    "num_cells = 10\n",
    "grid = {}\n",
    "cellx_range = (maxX - minX)/10\n",
    "celly_range = (maxY - minY)/10\n",
    "\n",
    "for i in range(num_cells):\n",
    "    for j in range(num_cells):\n",
    "        cell_id = (minX + i*cellx_range, minY + j*celly_range)\n",
    "        grid[cell_id] = []"
   ]
  },
  {
   "cell_type": "code",
   "execution_count": 424,
   "id": "27c13927",
   "metadata": {},
   "outputs": [],
   "source": [
    "with open('grid.grd', 'r') as file:\n",
    "    info_cells_on_grid = []\n",
    "    for line in file:\n",
    "        line = line.strip().split(\",\")\n",
    "        line = list(map(float, line))\n",
    "        info_cells_on_grid.append(line)"
   ]
  },
  {
   "cell_type": "code",
   "execution_count": 425,
   "id": "0ece960a",
   "metadata": {},
   "outputs": [],
   "source": [
    "#number_of_ids_in_cells\n",
    "#info_cells_on_grid\n",
    "#grid\n",
    "#minX maxX minY maxY"
   ]
  },
  {
   "cell_type": "code",
   "execution_count": 426,
   "id": "e33a7341",
   "metadata": {},
   "outputs": [],
   "source": [
    "i = 0\n",
    "counter = 0\n",
    "for cell in grid:\n",
    "    if number_of_ids_in_cells[i] != 0:\n",
    "        for j in range(number_of_ids_in_cells[i]):\n",
    "            grid[cell].append(int(info_cells_on_grid[j+counter][0]))\n",
    "    counter = counter + number_of_ids_in_cells[i]\n",
    "    i=i+1"
   ]
  },
  {
   "cell_type": "code",
   "execution_count": 427,
   "id": "19637474",
   "metadata": {},
   "outputs": [],
   "source": [
    "#read first query\n",
    "with open('queries.txt', 'r') as f:\n",
    "    line = f.readline().strip()  # read the first line and remove any leading/trailing whitespaces\n",
    "    first_query = [float(x) for x in line.split(',')[1].split()]\n",
    "#min max of window\n",
    "window_minX = first_query[0]\n",
    "window_maxX = first_query[1]\n",
    "window_minY = first_query[2]\n",
    "window_maxY = first_query[3]"
   ]
  },
  {
   "cell_type": "code",
   "execution_count": 428,
   "id": "eff77319",
   "metadata": {
    "scrolled": true
   },
   "outputs": [
    {
     "name": "stdout",
     "output_type": "stream",
     "text": [
      "14\n",
      "24\n",
      "30397\n"
     ]
    }
   ],
   "source": [
    "for i in range(100):\n",
    "    cell_coordX = list(grid)[i][0]\n",
    "    cell_coordY = list(grid)[i][1]\n",
    "    if window_minX >= cell_coordX and window_minY >= cell_coordY and window_minX <= cell_coordX + cellx_range and window_minY <= cell_coordY + celly_range:\n",
    "        minMBRcell = i\n",
    "    if window_maxX >= cell_coordX and window_maxY >= cell_coordY and window_maxX <= cell_coordX + cellx_range and window_maxY <= cell_coordY + celly_range:\n",
    "        maxMBRcell = i\n",
    "print(minMBRcell)\n",
    "print(maxMBRcell)\n",
    "found = False\n",
    "if minMBRcell == maxMBRcell: \n",
    "    ids_of_cell = grid[list(grid)[minMBRcell]]\n",
    "    for id in ids_of_cell:\n",
    "        while(found == False):\n",
    "            if info_cells_on_grid[i][0] == id:\n",
    "                id_minX = info_cells_on_grid[i][1]\n",
    "                id_minY = info_cells_on_grid[i][2]\n",
    "                id_maxX = info_cells_on_grid[i][3]\n",
    "                id_maxY = info_cells_on_grid[i][4]\n",
    "                if (window_minX <= id_maxX and window_minY <= id_maxY) and (window_maxX >= id_minX and window_maxY >= id_minY):\n",
    "                    print(id)\n",
    "                elif (window_minX <= id_minX and window_minY <= id_minY) and (window_maxX >= id_maxX and window_maxY >= id_maxY):\n",
    "                    print(id)\n",
    "                found = True\n",
    "            i = i + 1\n",
    "        found = False\n",
    "else:\n",
    "    difference_x = (maxMBRcell%10) - (minMBRcell%10)\n",
    "    difference_y = (maxMBRcell//10) - (minMBRcell//10)\n",
    "    for x in range(difference_y+1):\n",
    "            for y in range(difference_x+1):\n",
    "                ids_of_cell = grid[list(grid)[minMBRcell + x + y*10]]\n",
    "                for id in ids_of_cell:\n",
    "                    while(found == False):\n",
    "                        if info_cells_on_grid[i][0] == id:\n",
    "                            id_minX = info_cells_on_grid[i][1]\n",
    "                            id_minY = info_cells_on_grid[i][2]\n",
    "                            id_maxX = info_cells_on_grid[i][3]\n",
    "                            id_maxY = info_cells_on_grid[i][4]\n",
    "                            if (window_minX <= id_maxX and window_minY <= id_maxY) and (window_maxX >= id_minX and window_maxY >= id_minY):\n",
    "                                print(id)\n",
    "                            elif (window_minX <= id_minX and window_minY <= id_minY) and (window_maxX >= id_maxX and window_maxY >= id_maxY):\n",
    "                                print(id)\n",
    "                            found = True\n",
    "                        i = i + 1\n",
    "                    found = False"
   ]
  },
  {
   "cell_type": "code",
   "execution_count": 387,
   "id": "9e4e375b",
   "metadata": {},
   "outputs": [
    {
     "data": {
      "text/plain": [
       "(-85.7840395, 32.119055)"
      ]
     },
     "execution_count": 387,
     "metadata": {},
     "output_type": "execute_result"
    }
   ],
   "source": [
    "list(grid)[91]"
   ]
  },
  {
   "cell_type": "code",
   "execution_count": null,
   "id": "0c8be2b6",
   "metadata": {},
   "outputs": [],
   "source": []
  }
 ],
 "metadata": {
  "kernelspec": {
   "display_name": "Python 3 (ipykernel)",
   "language": "python",
   "name": "python3"
  },
  "language_info": {
   "codemirror_mode": {
    "name": "ipython",
    "version": 3
   },
   "file_extension": ".py",
   "mimetype": "text/x-python",
   "name": "python",
   "nbconvert_exporter": "python",
   "pygments_lexer": "ipython3",
   "version": "3.9.7"
  }
 },
 "nbformat": 4,
 "nbformat_minor": 5
}
